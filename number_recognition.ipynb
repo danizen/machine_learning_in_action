{
 "cells": [
  {
   "cell_type": "code",
   "execution_count": 1,
   "metadata": {
    "collapsed": true
   },
   "outputs": [],
   "source": [
    "import numpy as np\n",
    "import knn"
   ]
  },
  {
   "cell_type": "code",
   "execution_count": 2,
   "metadata": {
    "collapsed": false
   },
   "outputs": [
    {
     "data": {
      "text/plain": [
       "array([[ 0.,  0.,  0., ...,  0.,  0.,  0.]])"
      ]
     },
     "execution_count": 2,
     "metadata": {},
     "output_type": "execute_result"
    }
   ],
   "source": [
    "knn.img2vector('data/ch02/trainingDigits/0_0.txt')"
   ]
  },
  {
   "cell_type": "code",
   "execution_count": 3,
   "metadata": {
    "collapsed": false
   },
   "outputs": [
    {
     "data": {
      "text/plain": [
       "array([ 0.,  0.,  0.,  0.,  0.,  0.,  0.,  0.,  0.,  0.,  0.,  0.,  0.,\n",
       "        0.,  0.,  1.,  1.,  1.,  0.,  0.,  0.,  0.,  0.,  0.,  0.,  0.,\n",
       "        0.,  0.,  0.,  0.,  0.])"
      ]
     },
     "execution_count": 3,
     "metadata": {},
     "output_type": "execute_result"
    }
   ],
   "source": [
    "testvec = knn.img2vector('data/ch02/trainingDigits/0_13.txt')\n",
    "testvec[0,0:31]"
   ]
  },
  {
   "cell_type": "code",
   "execution_count": 4,
   "metadata": {
    "collapsed": false
   },
   "outputs": [
    {
     "data": {
      "text/plain": [
       "array([ 0.,  0.,  0.,  0.,  0.,  0.,  0.,  0.,  0.,  0.,  0.,  0.,  0.,\n",
       "        1.,  1.,  1.,  1.,  1.,  1.,  0.,  0.,  0.,  0.,  0.,  0.,  0.,\n",
       "        0.,  0.,  0.,  0.,  0.])"
      ]
     },
     "execution_count": 4,
     "metadata": {},
     "output_type": "execute_result"
    }
   ],
   "source": [
    "testvec[0,32:63]"
   ]
  },
  {
   "cell_type": "code",
   "execution_count": 12,
   "metadata": {
    "collapsed": true
   },
   "outputs": [],
   "source": [
    "dirname = 'data/ch02/trainingDigits'"
   ]
  },
  {
   "cell_type": "code",
   "execution_count": 13,
   "metadata": {
    "collapsed": false
   },
   "outputs": [
    {
     "name": "stdout",
     "output_type": "stream",
     "text": [
      "5_42.txt: class sb 5 is 3\n",
      "3_11.txt: class sb 3 is 9\n",
      "9_68.txt: class sb 9 is 5\n",
      "5_43.txt: class sb 5 is 6\n",
      "9_60.txt: class sb 9 is 7\n",
      "8_45.txt: class sb 8 is 1\n",
      "3_55.txt: class sb 3 is 9\n",
      "8_11.txt: class sb 8 is 6\n",
      "1_86.txt: class sb 1 is 7\n",
      "8_36.txt: class sb 8 is 1\n",
      "8_23.txt: class sb 8 is 3\n",
      "9_14.txt: class sb 9 is 1\n"
     ]
    },
    {
     "data": {
      "text/plain": [
       "(12, 0.012684989429175475)"
      ]
     },
     "execution_count": 13,
     "metadata": {},
     "output_type": "execute_result"
    }
   ],
   "source": [
    "reload(knn)\n",
    "knn.handwritingClassTest(3)"
   ]
  },
  {
   "cell_type": "code",
   "execution_count": 14,
   "metadata": {
    "collapsed": false
   },
   "outputs": [
    {
     "name": "stdout",
     "output_type": "stream",
     "text": [
      "5_42.txt: class sb 5 is 3\n",
      "3_11.txt: class sb 3 is 9\n",
      "5_43.txt: class sb 5 is 4\n",
      "8_45.txt: class sb 8 is 1\n",
      "3_46.txt: class sb 3 is 2\n",
      "8_11.txt: class sb 8 is 6\n",
      "3_42.txt: class sb 3 is 8\n",
      "4_2.txt: class sb 4 is 9\n",
      "8_36.txt: class sb 8 is 1\n",
      "8_23.txt: class sb 8 is 3\n",
      "3_43.txt: class sb 3 is 2\n",
      "3_49.txt: class sb 3 is 8\n",
      "5_33.txt: class sb 5 is 9\n"
     ]
    },
    {
     "data": {
      "text/plain": [
       "(13, 0.013742071881606765)"
      ]
     },
     "execution_count": 14,
     "metadata": {},
     "output_type": "execute_result"
    }
   ],
   "source": [
    "knn.handwritingClassTest(2)"
   ]
  },
  {
   "cell_type": "code",
   "execution_count": 15,
   "metadata": {
    "collapsed": false
   },
   "outputs": [
    {
     "name": "stdout",
     "output_type": "stream",
     "text": [
      "5_42.txt: class sb 5 is 3\n",
      "3_11.txt: class sb 3 is 9\n",
      "9_68.txt: class sb 9 is 5\n",
      "5_43.txt: class sb 5 is 4\n",
      "9_60.txt: class sb 9 is 7\n",
      "8_45.txt: class sb 8 is 1\n",
      "3_55.txt: class sb 3 is 9\n",
      "8_11.txt: class sb 8 is 6\n",
      "4_46.txt: class sb 4 is 0\n",
      "8_35.txt: class sb 8 is 1\n",
      "1_86.txt: class sb 1 is 7\n",
      "8_36.txt: class sb 8 is 1\n",
      "8_23.txt: class sb 8 is 3\n",
      "8_8.txt: class sb 8 is 3\n",
      "9_14.txt: class sb 9 is 1\n",
      "8_68.txt: class sb 8 is 1\n",
      "3_49.txt: class sb 3 is 8\n",
      "5_33.txt: class sb 5 is 9\n"
     ]
    },
    {
     "data": {
      "text/plain": [
       "(18, 0.019027484143763214)"
      ]
     },
     "execution_count": 15,
     "metadata": {},
     "output_type": "execute_result"
    }
   ],
   "source": [
    "knn.handwritingClassTest(5)"
   ]
  },
  {
   "cell_type": "code",
   "execution_count": null,
   "metadata": {
    "collapsed": true
   },
   "outputs": [],
   "source": []
  }
 ],
 "metadata": {
  "kernelspec": {
   "display_name": "Python 2",
   "language": "python",
   "name": "python2"
  },
  "language_info": {
   "codemirror_mode": {
    "name": "ipython",
    "version": 2
   },
   "file_extension": ".py",
   "mimetype": "text/x-python",
   "name": "python",
   "nbconvert_exporter": "python",
   "pygments_lexer": "ipython2",
   "version": "2.7.12"
  }
 },
 "nbformat": 4,
 "nbformat_minor": 2
}
